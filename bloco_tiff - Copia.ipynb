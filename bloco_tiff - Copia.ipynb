{
 "cells": [
  {
   "cell_type": "markdown",
   "id": "164932d8",
   "metadata": {},
   "source": [
    "Lê todos os arquivos da pasta dados e obtem a imagem .tif de cada um"
   ]
  },
  {
   "cell_type": "code",
   "execution_count": 3,
   "id": "aee88723",
   "metadata": {
    "scrolled": false
   },
   "outputs": [],
   "source": [
    "import datetime\n",
    "import pyart\n",
    "import matplotlib.pyplot as plt\n",
    "import os\n",
    "import warnings\n",
    "warnings.filterwarnings('ignore') # Remove todos os avisos (importante para remover aviso de descontinuidade que torna o script muito pesado)"
   ]
  },
  {
   "cell_type": "code",
   "execution_count": 2,
   "id": "c9420998",
   "metadata": {
    "scrolled": true
   },
   "outputs": [],
   "source": [
    "# Lista com nomes.extensão de todos os arquivos a serem tratados\n",
    "arquivos = os.listdir(r\"local\\S-TORM 2019-02-16\\dados\")\n",
    "#os.path.splitext(arquivos[0])[0]  # Nome do arquivo sem extensão"
   ]
  },
  {
   "cell_type": "code",
   "execution_count": 50,
   "id": "66f0c581",
   "metadata": {},
   "outputs": [
    {
     "data": {
      "text/plain": [
       "'00:00'"
      ]
     },
     "execution_count": 50,
     "metadata": {},
     "output_type": "execute_result"
    }
   ],
   "source": [
    "data = datetime.datetime(2019,2,16,0,0,0)  # Para nomear arquivos coretamente"
   ]
  },
  {
   "cell_type": "code",
   "execution_count": 52,
   "id": "bfa8c081",
   "metadata": {
    "scrolled": true
   },
   "outputs": [],
   "source": [
    "# Lê, converte arquivos radar para grid, salva imagem em formato.tif\n",
    "for i in arquivos:\n",
    "    filename = \"local\\\\\"+i\n",
    "    radar = pyart.io.read_sigmet(filename)\n",
    "    \n",
    "    grid = pyart.map.grid_from_radars(\n",
    "    (radar,),\n",
    "    grid_shape=(10, 1000, 1000),\n",
    "    grid_limits=((450, 1000), (-123000.0, 123000.0), (-123000.0, 123000.0)),\n",
    "    fields=['reflectivity'])\n",
    "    \n",
    "    pyart.io.write_grid_geotiff(grid, \"bloco_tiff_2\\\\\"+data.strftime(\"%H-%M\"), 'reflectivity', rgb=False, warp=True,\n",
    "                                         cmap='pyart_NWSRef', vmin=-32, vmax=64, color_levels = 255)\n",
    "    data += datetime.timedelta(minutes=1)"
   ]
  }
 ],
 "metadata": {
  "kernelspec": {
   "display_name": "Python [conda env:pyart_env]",
   "language": "python",
   "name": "conda-env-pyart_env-py"
  },
  "language_info": {
   "codemirror_mode": {
    "name": "ipython",
    "version": 3
   },
   "file_extension": ".py",
   "mimetype": "text/x-python",
   "name": "python",
   "nbconvert_exporter": "python",
   "pygments_lexer": "ipython3",
   "version": "3.8.12"
  }
 },
 "nbformat": 4,
 "nbformat_minor": 5
}
